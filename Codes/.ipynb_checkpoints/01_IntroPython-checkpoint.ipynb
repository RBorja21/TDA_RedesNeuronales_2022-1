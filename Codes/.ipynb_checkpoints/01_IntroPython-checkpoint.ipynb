{
 "cells": [
  {
   "cell_type": "markdown",
   "metadata": {},
   "source": [
    "# Tutorial de Python con Jupyter Notebook "
   ]
  },
  {
   "cell_type": "markdown",
   "metadata": {},
   "source": [
    "## Python<br>\n",
    "**Python es un lenguaje de alto nivel, multiparadigma y con tipado dinámico.** <br>\n",
    "Este tutorial no asume conocimiento de Python, pero tampoco explica el lenguaje en detalle. <br>\n",
    "El texto canónico de referencia para cualquier cosa (duda o discusión) relacionada con Python es la propia [documentación oficial de Python](https://docs.python.org/3/)."
   ]
  },
  {
   "cell_type": "markdown",
   "metadata": {},
   "source": [
    "## Jupyter Notebook"
   ]
  },
  {
   "cell_type": "markdown",
   "metadata": {},
   "source": [
    "La forma tradicional de ejecutar un programa en python es con el comando `python nombre.py`, donde `nombre.py` es un archivo<br>\n",
    "con código fuente python. "
   ]
  },
  {
   "cell_type": "markdown",
   "metadata": {},
   "source": [
    "En lugar de eso, utilizaremos un servidor de Jupyter Notebook con cuadernos de código.  Estos cuadernos (notebooks) nos permiten<br>\n",
    "combinar texto y código, organizados en celdas, lo cual es más cómodo para probar cosas nuevas y documentar lo que hacemos. "
   ]
  },
  {
   "cell_type": "markdown",
   "metadata": {},
   "source": [
    "# Python muuy básico <br>\n",
    "Las **variables** en python no necesitan ser declaradas, simplemente se definen al ser utilizadas por primera vez. Además, <br>\n",
    "(si bien no es recomendable) pueden cambiar de tipo volviendo a definir "
   ]
  },
  {
   "cell_type": "code",
   "execution_count": null,
   "metadata": {},
   "outputs": [],
   "source": [
    "x = \"Hola Mundo\"\n",
    "print(x)\n",
    "print(type(x))"
   ]
  },
  {
   "cell_type": "code",
   "execution_count": null,
   "metadata": {},
   "outputs": [],
   "source": [
    "x = 5\n",
    "print(x)\n",
    "print(type(x))"
   ]
  },
  {
   "cell_type": "code",
   "execution_count": null,
   "metadata": {},
   "outputs": [],
   "source": [
    "y = x + 4.3\n",
    "print(y)\n",
    "print(type(y))"
   ]
  },
  {
   "cell_type": "markdown",
   "metadata": {},
   "source": [
    "## Tipos de datos básicos <br>\n",
    "### Números "
   ]
  },
  {
   "cell_type": "code",
   "execution_count": null,
   "metadata": {},
   "outputs": [],
   "source": [
    "r = 3 # Variable de tipo entero "
   ]
  },
  {
   "cell_type": "code",
   "execution_count": null,
   "metadata": {},
   "outputs": [],
   "source": [
    "f = 4.4 #Variable de tipo flotante"
   ]
  },
  {
   "cell_type": "markdown",
   "metadata": {},
   "source": [
    "### Booleanos<br>\n",
    "Python implementa todos los operadores usuales de la lógica booleana, usando palabras en inglés (`and, or, not`) en lugar de símbolos (||, &&, !, etc)<br>\n",
    "También tiene los típicos operadores de comparación: `<,>,>=,<=,==,!=`"
   ]
  },
  {
   "cell_type": "code",
   "execution_count": null,
   "metadata": {},
   "outputs": [],
   "source": [
    "v1 = True #el valor verdadero se escribe True \n",
    "v2 = False #el valor verdadero se escribe False\n",
    "print(\"- Valores de v1 y v2:\")\n",
    "print(v1,v2)"
   ]
  },
  {
   "cell_type": "code",
   "execution_count": null,
   "metadata": {},
   "outputs": [],
   "source": [
    "print(\"- v1 and v2:\")\n",
    "print(v1 and v2) # y lógico; imprime False\n",
    "print(v1 or v2)  # o lógico; imprime True\n",
    "print(not v1)   # negación lógica, imprime False"
   ]
  },
  {
   "cell_type": "code",
   "execution_count": null,
   "metadata": {},
   "outputs": [],
   "source": [
    "print(3 == 5)  # Imprime False ya que son distintos\n",
    "print(3 != 5)  # Imprime True ya que son distintos\n",
    "print(3 < 5)  # Imprime True ya que 3 es menor que 5"
   ]
  },
  {
   "cell_type": "markdown",
   "metadata": {},
   "source": [
    "### Listas<br>\n",
    "Python tiene soporte para listas como un tipo predefinido del lenguaje. <br>\n",
    "Para crear una lista basta con poner cosas entre `[]` (corchetes) y separarlas con `,` (comas)."
   ]
  },
  {
   "cell_type": "code",
   "execution_count": null,
   "metadata": {},
   "outputs": [],
   "source": [
    "print(\"- Lista con 4 números:\")\n",
    "a=[57,45,7,13] # una lista con cuatro números\n",
    "print(a)"
   ]
  },
  {
   "cell_type": "code",
   "execution_count": null,
   "metadata": {},
   "outputs": [],
   "source": [
    "print(\"- Lista con 3 strings:\")\n",
    "b=[\"hola\",7.7 ,\"buen día\"] # una lista con tres strings\n",
    "print(b)"
   ]
  },
  {
   "cell_type": "markdown",
   "metadata": {},
   "source": [
    "la función `len` me da la longitud de la lista"
   ]
  },
  {
   "cell_type": "code",
   "execution_count": null,
   "metadata": {},
   "outputs": [],
   "source": [
    "print(\"- Longitud de la lista:\")\n",
    "n=len(a)\n",
    "print(n)"
   ]
  },
  {
   "cell_type": "markdown",
   "metadata": {},
   "source": [
    "Para acceder a sus elementos, se utiliza el []<br>\n",
    "Los índices comienzan en 0"
   ]
  },
  {
   "cell_type": "code",
   "execution_count": null,
   "metadata": {},
   "outputs": [],
   "source": [
    "print(\"- Elemento con índice 0 de la lista:\")\n",
    "print(b[0])\n",
    "print(\"- Elemento con índice 1 de la lista:\")\n",
    "print(b[1])\n",
    "print(\"- Elemento con índice 2 de la lista:\")\n",
    "print(b[2])"
   ]
  },
  {
   "cell_type": "code",
   "execution_count": null,
   "metadata": {},
   "outputs": [],
   "source": [
    "print(b)\n",
    "b.append('Nuevo')\n",
    "print(b)"
   ]
  },
  {
   "cell_type": "code",
   "execution_count": null,
   "metadata": {},
   "outputs": [],
   "source": [
    "una_lista = [1 , 3.4, \"cadena\"] \n",
    "una_lista_de_listas = [[1 , 3.4, \"cadena\", [1 , 3.4, \"cadena\"]] ]"
   ]
  },
  {
   "cell_type": "markdown",
   "metadata": {},
   "source": [
    "**TODO en python es un objeto** "
   ]
  },
  {
   "cell_type": "markdown",
   "metadata": {},
   "source": [
    "### Tuplas<br>\n",
    "Las tuplas son estructuras de datos imnutables.  Se crean con `()` (paréntesis) en lugar de `[]` (corchetes)."
   ]
  },
  {
   "cell_type": "code",
   "execution_count": null,
   "metadata": {},
   "outputs": [],
   "source": [
    "a=(1,2,57,4)\n",
    "print(\"- Una tupla de cuatro elementos:\")\n",
    "print(a)\n",
    "print(\"- El elemento con índice 2:\")\n",
    "print(a[2])\n",
    "print(\"- Los elementos entre los índices 0 y 2:\")\n",
    "print(a[0:2])"
   ]
  },
  {
   "cell_type": "markdown",
   "metadata": {},
   "source": [
    "la siguiente línea genera un error de ejecución"
   ]
  },
  {
   "cell_type": "code",
   "execution_count": null,
   "metadata": {},
   "outputs": [],
   "source": [
    "a.append(28)"
   ]
  },
  {
   "cell_type": "markdown",
   "metadata": {},
   "source": [
    "### Diccionarios<br>\n",
    "Son mutables "
   ]
  },
  {
   "cell_type": "code",
   "execution_count": null,
   "metadata": {},
   "outputs": [],
   "source": [
    "dic = {\"d1\":3,\"d2\":4,\"d3\":\"Hey\"}"
   ]
  },
  {
   "cell_type": "code",
   "execution_count": null,
   "metadata": {},
   "outputs": [],
   "source": [
    "dic2 = {4:\"JEJE\",2:4}"
   ]
  },
  {
   "cell_type": "code",
   "execution_count": null,
   "metadata": {},
   "outputs": [],
   "source": [
    "dic3 = {4:una_lista,3:una_lista_de_listas}"
   ]
  },
  {
   "cell_type": "code",
   "execution_count": null,
   "metadata": {},
   "outputs": [],
   "source": [
    "dic3[4][2]"
   ]
  },
  {
   "cell_type": "code",
   "execution_count": null,
   "metadata": {},
   "outputs": [],
   "source": [
    "type(dic3)"
   ]
  },
  {
   "cell_type": "code",
   "execution_count": null,
   "metadata": {},
   "outputs": [],
   "source": [
    "dic3[4]"
   ]
  },
  {
   "cell_type": "markdown",
   "metadata": {},
   "source": [
    "### Conjuntos"
   ]
  },
  {
   "cell_type": "code",
   "execution_count": null,
   "metadata": {},
   "outputs": [],
   "source": [
    "A = set([2,2,3,3,3,4,\"Hola\"])\n",
    "A"
   ]
  },
  {
   "cell_type": "code",
   "execution_count": null,
   "metadata": {},
   "outputs": [],
   "source": [
    "B = set([3,4,\"Hola\",5])"
   ]
  },
  {
   "cell_type": "markdown",
   "metadata": {},
   "source": [
    "Intersección"
   ]
  },
  {
   "cell_type": "code",
   "execution_count": null,
   "metadata": {},
   "outputs": [],
   "source": [
    "B&A"
   ]
  },
  {
   "cell_type": "markdown",
   "metadata": {},
   "source": [
    "Diferencia"
   ]
  },
  {
   "cell_type": "code",
   "execution_count": null,
   "metadata": {},
   "outputs": [],
   "source": [
    "B-A"
   ]
  },
  {
   "cell_type": "markdown",
   "metadata": {},
   "source": [
    "Unión "
   ]
  },
  {
   "cell_type": "code",
   "execution_count": null,
   "metadata": {},
   "outputs": [],
   "source": [
    "A.union(B)\n",
    "A|B"
   ]
  },
  {
   "cell_type": "markdown",
   "metadata": {},
   "source": [
    "### Estructuras de control"
   ]
  },
  {
   "cell_type": "markdown",
   "metadata": {},
   "source": [
    "### Ciclos for "
   ]
  },
  {
   "cell_type": "code",
   "execution_count": null,
   "metadata": {},
   "outputs": [],
   "source": [
    "for i in range(4):\n",
    "    #print(i)\n",
    "    print(una_lista[i])\n",
    "     \n",
    "print(\"Fin\")"
   ]
  },
  {
   "cell_type": "markdown",
   "metadata": {},
   "source": [
    "For anidado "
   ]
  },
  {
   "cell_type": "code",
   "execution_count": null,
   "metadata": {},
   "outputs": [],
   "source": [
    "for i in una_lista_de_listas:\n",
    "    for j in i:\n",
    "        print(j)\n",
    "        print(\"Hola\")\n",
    "    \n",
    "    print(\"Adios\")"
   ]
  },
  {
   "cell_type": "markdown",
   "metadata": {},
   "source": [
    "###  ciclos while<br>\n",
    "Son útiles para cuando quieres evaluar condiciones o conjuntos que no están definidos a priori"
   ]
  },
  {
   "cell_type": "code",
   "execution_count": null,
   "metadata": {},
   "outputs": [],
   "source": [
    "i=0\n",
    "while i < len(una_lista):\n",
    "    print(una_lista[i])\n",
    "    i=i+1"
   ]
  },
  {
   "cell_type": "markdown",
   "metadata": {},
   "source": [
    "# For anidado "
   ]
  },
  {
   "cell_type": "code",
   "execution_count": null,
   "metadata": {},
   "outputs": [],
   "source": [
    "i=0\n",
    "while i < len(una_lista_de_listas):\n",
    "    elemento = una_lista_de_listas[i]\n",
    "    i=i+1\n",
    "    for j in elemento:\n",
    "        print(j)\n",
    "        print(\"Hola\")\n",
    "    \n",
    "    print(\"Adios\")   "
   ]
  },
  {
   "cell_type": "markdown",
   "metadata": {},
   "source": [
    "### Booleanos, if, else"
   ]
  },
  {
   "cell_type": "code",
   "execution_count": null,
   "metadata": {},
   "outputs": [],
   "source": [
    "a = 200\n",
    "b = 33\n",
    "if b > a:\n",
    "    print(\"b es mayor que a\")\n",
    "elif a == b:\n",
    "    print(\"a y b son iguales\")\n",
    "else:\n",
    "    print(\"a es mayor que  b\")"
   ]
  },
  {
   "cell_type": "markdown",
   "metadata": {},
   "source": [
    "Romper ciclos "
   ]
  },
  {
   "cell_type": "markdown",
   "metadata": {},
   "source": [
    "Romper ciclos "
   ]
  },
  {
   "cell_type": "code",
   "execution_count": null,
   "metadata": {},
   "outputs": [],
   "source": [
    "i=0\n",
    "while i < len(una_lista_de_listas):\n",
    "    if i ==1:\n",
    "        break\n",
    "    elemento = una_lista_de_listas[i]\n",
    "    i=i+1\n",
    "   \n",
    "        \n",
    "    for j in elemento:\n",
    "        print(j)\n",
    "        print(\"Hola\")\n",
    "    \n",
    "    print(\"Adios\")"
   ]
  },
  {
   "cell_type": "markdown",
   "metadata": {},
   "source": [
    "## # Funciones"
   ]
  },
  {
   "cell_type": "code",
   "execution_count": null,
   "metadata": {},
   "outputs": [],
   "source": [
    "def nombre_funcion(argumentos):\n",
    "    operaciones \n",
    "    return resultado "
   ]
  },
  {
   "cell_type": "code",
   "execution_count": null,
   "metadata": {},
   "outputs": [],
   "source": [
    "def calculadora(num1,num2,operacion):\n",
    "    if operacion == \"suma\":\n",
    "        result = num1 + num2    \n",
    "    elif operacion == \"resta\":\n",
    "        result = num1 - num2\n",
    "    elif operacion == \"producto\":\n",
    "        result = num1*num2\n",
    "    elif operacion == \"cociente\":\n",
    "        result = num1/num2\n",
    "    else:\n",
    "        result = \"Operación desconocida, operaciones válidas: suma, resta, producto, cociente\"\n",
    "    return result"
   ]
  },
  {
   "cell_type": "code",
   "execution_count": null,
   "metadata": {},
   "outputs": [],
   "source": [
    "calculadora(4,5,\"suma\")"
   ]
  },
  {
   "cell_type": "code",
   "execution_count": null,
   "metadata": {},
   "outputs": [],
   "source": [
    "def cuadrado(x):\n",
    "    return x**2"
   ]
  },
  {
   "cell_type": "code",
   "execution_count": null,
   "metadata": {},
   "outputs": [],
   "source": [
    "cuadrado(3)"
   ]
  },
  {
   "cell_type": "code",
   "execution_count": null,
   "metadata": {},
   "outputs": [],
   "source": [
    "ejemplo = lambda x: x**2 \n",
    "ejemplo(3)"
   ]
  },
  {
   "cell_type": "markdown",
   "metadata": {},
   "source": [
    "**Ejercicio**<br>\n",
    "Escribir una función que reciba una lista y un valor, <br>\n",
    "y devuelva la cantidad de veces que aparece ese valor en la lista"
   ]
  },
  {
   "cell_type": "code",
   "execution_count": null,
   "metadata": {},
   "outputs": [],
   "source": [
    "def ocurrencias(lista,valor):\n",
    "    # IMPLEMENTAR\n",
    "    return 0"
   ]
  },
  {
   "cell_type": "code",
   "execution_count": null,
   "metadata": {},
   "outputs": [],
   "source": [
    "l=[1,4,2,3,5,1,4,2,3,6,1,7,1,3,5,1,1,5,3,2]\n",
    "v=2"
   ]
  },
  {
   "cell_type": "code",
   "execution_count": null,
   "metadata": {},
   "outputs": [],
   "source": [
    "print(\"La cantidad de ocurrencias es:\")\n",
    "print(ocurrencias(l,v))\n",
    "# debe imprimir 3, la cantidad de veces que aparece el 2 en la lista"
   ]
  }
 ],
 "metadata": {
  "kernelspec": {
   "display_name": "Python 3 (ipykernel)",
   "language": "python",
   "name": "python3"
  },
  "language_info": {
   "codemirror_mode": {
    "name": "ipython",
    "version": 3
   },
   "file_extension": ".py",
   "mimetype": "text/x-python",
   "name": "python",
   "nbconvert_exporter": "python",
   "pygments_lexer": "ipython3",
   "version": "3.7.12"
  }
 },
 "nbformat": 4,
 "nbformat_minor": 2
}
